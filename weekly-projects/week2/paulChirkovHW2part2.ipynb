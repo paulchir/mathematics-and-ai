{
 "cells": [
  {
   "cell_type": "code",
   "execution_count": null,
   "id": "fb91f56b-fc44-48c1-9345-8916f19d280c",
   "metadata": {
    "collapsed": true
   },
   "outputs": [],
   "source": [
    "# Homework 2 Part 2 (due 7/07/2024)\n",
    "# Paul Chirkov"
   ]
  },
  {
   "cell_type": "markdown",
   "id": "08469748-4a10-4631-9842-16f74f16fd7f",
   "metadata": {},
   "source": [
    "# Health-care assistance via probabilistic graphical modeling\n",
    "\n",
    "### Objective\n",
    "In this project, you will create a health-care assistance bot that can suggest diagnoses for a set of symptoms based on a probabilistic graphical model.\n",
    "\n",
    "### Step 1: Review \n",
    "Review the code from the Bayesian networks exercise.\n",
    "\n",
    "### Step 2: Acquire data\n",
    "View this [research article](https://www.nature.com/articles/ncomms5212) and download its supplementary data sets 1, 2 and 3. These data sets include the occurrences of diseases, symptoms, and their co-occurrences in the scientific literature. (For the purpose of this exercise, we are going to assume that the frequency of co-occurrences of diseases and symptoms in scientific papers is proportional to the co-occurence frequencies of actual disease cases and symptoms.)\n",
    "\n",
    "### Step 3: Create a Bayesian network\n",
    "Using commands from the `pgmpy` library, create a Bayesian network in which the probability of exhibiting a symptom is conditional on the probability of having an associated disease. \n",
    "\n",
    "### Step 4: Initialize priors\n",
    "Use the disease occurrence data to assign prior probabilities for diseases.\n",
    "\n",
    "### Step 5: Calculate conditional probability tables\n",
    "Use the co-occurrence data to define CPTs for each connected pair of disease and symptoms. (Hint: You may need to assign some occurrences of symptoms to an \"idiopathic disease\" to create valid CPTs.)\n",
    "\n",
    "### Step 6:\n",
    "Create a minimal interface in which your bot asks a users for a list of observed symptoms and then returns the name of the disease that is the most likely match to the symptoms. (Hint: Review the input/output commands that you have used in last week's homework.)"
   ]
  },
  {
   "cell_type": "code",
   "execution_count": 120,
   "id": "446b87c4",
   "metadata": {
    "collapsed": true
   },
   "outputs": [
    {
     "data": {
      "text/html": [
       "<div>\n",
       "<style scoped>\n",
       "    .dataframe tbody tr th:only-of-type {\n",
       "        vertical-align: middle;\n",
       "    }\n",
       "\n",
       "    .dataframe tbody tr th {\n",
       "        vertical-align: top;\n",
       "    }\n",
       "\n",
       "    .dataframe thead th {\n",
       "        text-align: right;\n",
       "    }\n",
       "</style>\n",
       "<table border=\"1\" class=\"dataframe\">\n",
       "  <thead>\n",
       "    <tr style=\"text-align: right;\">\n",
       "      <th></th>\n",
       "      <th>MeSH Symptom Term</th>\n",
       "      <th>MeSH Disease Term</th>\n",
       "      <th>PubMed occurrence</th>\n",
       "      <th>TFIDF score</th>\n",
       "    </tr>\n",
       "  </thead>\n",
       "  <tbody>\n",
       "    <tr>\n",
       "      <th>668</th>\n",
       "      <td>Fever</td>\n",
       "      <td>Bacterial Infections</td>\n",
       "      <td>651</td>\n",
       "      <td>402.928399</td>\n",
       "    </tr>\n",
       "    <tr>\n",
       "      <th>2420</th>\n",
       "      <td>Fever</td>\n",
       "      <td>Neutropenia</td>\n",
       "      <td>1236</td>\n",
       "      <td>765.006914</td>\n",
       "    </tr>\n",
       "    <tr>\n",
       "      <th>5952</th>\n",
       "      <td>Body Weight</td>\n",
       "      <td>Kidney Failure, Chronic</td>\n",
       "      <td>636</td>\n",
       "      <td>218.140271</td>\n",
       "    </tr>\n",
       "    <tr>\n",
       "      <th>6173</th>\n",
       "      <td>Body Weight</td>\n",
       "      <td>Hypertension</td>\n",
       "      <td>3054</td>\n",
       "      <td>1047.484885</td>\n",
       "    </tr>\n",
       "    <tr>\n",
       "      <th>6404</th>\n",
       "      <td>Body Weight</td>\n",
       "      <td>Diabetes Mellitus</td>\n",
       "      <td>1100</td>\n",
       "      <td>377.286632</td>\n",
       "    </tr>\n",
       "  </tbody>\n",
       "</table>\n",
       "</div>"
      ],
      "text/plain": [
       "     MeSH Symptom Term        MeSH Disease Term  PubMed occurrence  \\\n",
       "668              Fever     Bacterial Infections                651   \n",
       "2420             Fever              Neutropenia               1236   \n",
       "5952       Body Weight  Kidney Failure, Chronic                636   \n",
       "6173       Body Weight             Hypertension               3054   \n",
       "6404       Body Weight        Diabetes Mellitus               1100   \n",
       "\n",
       "      TFIDF score  \n",
       "668    402.928399  \n",
       "2420   765.006914  \n",
       "5952   218.140271  \n",
       "6173  1047.484885  \n",
       "6404   377.286632  "
      ]
     },
     "execution_count": 120,
     "metadata": {},
     "output_type": "execute_result"
    }
   ],
   "source": [
    "\n",
    "import pandas as pd\n",
    "from pgmpy.models import BayesianNetwork\n",
    "from pgmpy.factors.discrete import TabularCPD\n",
    "from pgmpy.inference import VariableElimination\n",
    "\n",
    "# Load the datasets\n",
    "data1 = pd.read_csv('data1.txt', sep='\\t')  # Contains diseases and their occurrences\n",
    "data2 = pd.read_csv('data2.txt', sep='\\t')  # Contains symptoms and their occurrences\n",
    "data3 = pd.read_csv('data3.txt', sep='\\t')  # Contains co-occurrences of diseases and symptoms\n",
    "\n",
    "\n",
    "def clean_data1(df):\n",
    "    if 'MeSH Disease Term' in df.columns and 'PubMed occurrence' in df.columns:\n",
    "        df = df[df['PubMed occurrence'] > 500]\n",
    "    return df\n",
    "\n",
    "# Function to clean data2\n",
    "def clean_data2(df):\n",
    "    if 'MeSH Symptom Term' in df.columns and 'PubMed occurrence' in df.columns:\n",
    "        df = df[df['PubMed occurrence'] > 500]\n",
    "    return df\n",
    "\n",
    "def clean_data3(df):\n",
    "    if 'MeSH Symptom Term' in df.columns and 'MeSH Disease Term' in df.columns and 'PubMed occurrence' in df.columns:\n",
    "        df = df.dropna(subset=['MeSH Symptom Term', 'MeSH Disease Term', 'PubMed occurrence'])\n",
    "        df['PubMed occurrence'] = pd.to_numeric(df['PubMed occurrence'], errors='coerce')\n",
    "        df = df[df['PubMed occurrence'] >= 500]\n",
    "    return df\n",
    "\n",
    "data1 = clean_data1(data1)\n",
    "data2 = clean_data2(data2)\n",
    "data3 = clean_data3(data3)\n",
    "\n",
    "# Display the datasets to understand their structure\n",
    "\n",
    "unique_symptoms = set(data3[\"MeSH Symptom Term\"].unique())\n",
    "unique_diseases = set(data3[\"MeSH Disease Term\"].unique())\n",
    "data3.head()\n",
    "#print(unique_diseases)\n",
    "\n",
    "\n",
    "\n",
    "\n"
   ]
  },
  {
   "cell_type": "code",
   "execution_count": 86,
   "id": "a96c6113",
   "metadata": {
    "collapsed": true
   },
   "outputs": [
    {
     "data": {
      "text/html": [
       "<div>\n",
       "<style scoped>\n",
       "    .dataframe tbody tr th:only-of-type {\n",
       "        vertical-align: middle;\n",
       "    }\n",
       "\n",
       "    .dataframe tbody tr th {\n",
       "        vertical-align: top;\n",
       "    }\n",
       "\n",
       "    .dataframe thead th {\n",
       "        text-align: right;\n",
       "    }\n",
       "</style>\n",
       "<table border=\"1\" class=\"dataframe\">\n",
       "  <thead>\n",
       "    <tr style=\"text-align: right;\">\n",
       "      <th></th>\n",
       "      <th>MeSH Disease Term</th>\n",
       "      <th>PubMed occurrence</th>\n",
       "    </tr>\n",
       "  </thead>\n",
       "  <tbody>\n",
       "    <tr>\n",
       "      <th>0</th>\n",
       "      <td>Breast Neoplasms</td>\n",
       "      <td>122226</td>\n",
       "    </tr>\n",
       "    <tr>\n",
       "      <th>1</th>\n",
       "      <td>Hypertension</td>\n",
       "      <td>107294</td>\n",
       "    </tr>\n",
       "    <tr>\n",
       "      <th>2</th>\n",
       "      <td>Coronary Artery Disease</td>\n",
       "      <td>82819</td>\n",
       "    </tr>\n",
       "    <tr>\n",
       "      <th>3</th>\n",
       "      <td>Lung Neoplasms</td>\n",
       "      <td>78009</td>\n",
       "    </tr>\n",
       "    <tr>\n",
       "      <th>4</th>\n",
       "      <td>Myocardial Infarction</td>\n",
       "      <td>75945</td>\n",
       "    </tr>\n",
       "  </tbody>\n",
       "</table>\n",
       "</div>"
      ],
      "text/plain": [
       "         MeSH Disease Term  PubMed occurrence\n",
       "0         Breast Neoplasms             122226\n",
       "1             Hypertension             107294\n",
       "2  Coronary Artery Disease              82819\n",
       "3           Lung Neoplasms              78009\n",
       "4    Myocardial Infarction              75945"
      ]
     },
     "execution_count": 86,
     "metadata": {},
     "output_type": "execute_result"
    }
   ],
   "source": [
    "data1.head()"
   ]
  },
  {
   "cell_type": "code",
   "execution_count": 87,
   "id": "adc9fb56",
   "metadata": {
    "collapsed": true
   },
   "outputs": [
    {
     "data": {
      "text/html": [
       "<div>\n",
       "<style scoped>\n",
       "    .dataframe tbody tr th:only-of-type {\n",
       "        vertical-align: middle;\n",
       "    }\n",
       "\n",
       "    .dataframe tbody tr th {\n",
       "        vertical-align: top;\n",
       "    }\n",
       "\n",
       "    .dataframe thead th {\n",
       "        text-align: right;\n",
       "    }\n",
       "</style>\n",
       "<table border=\"1\" class=\"dataframe\">\n",
       "  <thead>\n",
       "    <tr style=\"text-align: right;\">\n",
       "      <th></th>\n",
       "      <th>MeSH Symptom Term</th>\n",
       "      <th>PubMed occurrence</th>\n",
       "    </tr>\n",
       "  </thead>\n",
       "  <tbody>\n",
       "    <tr>\n",
       "      <th>0</th>\n",
       "      <td>Body Weight</td>\n",
       "      <td>147857</td>\n",
       "    </tr>\n",
       "    <tr>\n",
       "      <th>1</th>\n",
       "      <td>Pain</td>\n",
       "      <td>103168</td>\n",
       "    </tr>\n",
       "    <tr>\n",
       "      <th>2</th>\n",
       "      <td>Obesity</td>\n",
       "      <td>100301</td>\n",
       "    </tr>\n",
       "    <tr>\n",
       "      <th>3</th>\n",
       "      <td>Anoxia</td>\n",
       "      <td>47351</td>\n",
       "    </tr>\n",
       "    <tr>\n",
       "      <th>4</th>\n",
       "      <td>Mental Retardation</td>\n",
       "      <td>43883</td>\n",
       "    </tr>\n",
       "  </tbody>\n",
       "</table>\n",
       "</div>"
      ],
      "text/plain": [
       "    MeSH Symptom Term  PubMed occurrence\n",
       "0         Body Weight             147857\n",
       "1                Pain             103168\n",
       "2             Obesity             100301\n",
       "3              Anoxia              47351\n",
       "4  Mental Retardation              43883"
      ]
     },
     "execution_count": 87,
     "metadata": {},
     "output_type": "execute_result"
    }
   ],
   "source": [
    "data2.head()"
   ]
  },
  {
   "cell_type": "code",
   "execution_count": 88,
   "id": "5b56e616",
   "metadata": {
    "collapsed": true
   },
   "outputs": [
    {
     "data": {
      "text/html": [
       "<div>\n",
       "<style scoped>\n",
       "    .dataframe tbody tr th:only-of-type {\n",
       "        vertical-align: middle;\n",
       "    }\n",
       "\n",
       "    .dataframe tbody tr th {\n",
       "        vertical-align: top;\n",
       "    }\n",
       "\n",
       "    .dataframe thead th {\n",
       "        text-align: right;\n",
       "    }\n",
       "</style>\n",
       "<table border=\"1\" class=\"dataframe\">\n",
       "  <thead>\n",
       "    <tr style=\"text-align: right;\">\n",
       "      <th></th>\n",
       "      <th>MeSH Symptom Term</th>\n",
       "      <th>MeSH Disease Term</th>\n",
       "      <th>PubMed occurrence</th>\n",
       "      <th>TFIDF score</th>\n",
       "    </tr>\n",
       "  </thead>\n",
       "  <tbody>\n",
       "    <tr>\n",
       "      <th>668</th>\n",
       "      <td>Fever</td>\n",
       "      <td>Bacterial Infections</td>\n",
       "      <td>651</td>\n",
       "      <td>402.928399</td>\n",
       "    </tr>\n",
       "    <tr>\n",
       "      <th>2420</th>\n",
       "      <td>Fever</td>\n",
       "      <td>Neutropenia</td>\n",
       "      <td>1236</td>\n",
       "      <td>765.006914</td>\n",
       "    </tr>\n",
       "    <tr>\n",
       "      <th>5952</th>\n",
       "      <td>Body Weight</td>\n",
       "      <td>Kidney Failure, Chronic</td>\n",
       "      <td>636</td>\n",
       "      <td>218.140271</td>\n",
       "    </tr>\n",
       "    <tr>\n",
       "      <th>6173</th>\n",
       "      <td>Body Weight</td>\n",
       "      <td>Hypertension</td>\n",
       "      <td>3054</td>\n",
       "      <td>1047.484885</td>\n",
       "    </tr>\n",
       "    <tr>\n",
       "      <th>6404</th>\n",
       "      <td>Body Weight</td>\n",
       "      <td>Diabetes Mellitus</td>\n",
       "      <td>1100</td>\n",
       "      <td>377.286632</td>\n",
       "    </tr>\n",
       "  </tbody>\n",
       "</table>\n",
       "</div>"
      ],
      "text/plain": [
       "     MeSH Symptom Term        MeSH Disease Term  PubMed occurrence  \\\n",
       "668              Fever     Bacterial Infections                651   \n",
       "2420             Fever              Neutropenia               1236   \n",
       "5952       Body Weight  Kidney Failure, Chronic                636   \n",
       "6173       Body Weight             Hypertension               3054   \n",
       "6404       Body Weight        Diabetes Mellitus               1100   \n",
       "\n",
       "      TFIDF score  \n",
       "668    402.928399  \n",
       "2420   765.006914  \n",
       "5952   218.140271  \n",
       "6173  1047.484885  \n",
       "6404   377.286632  "
      ]
     },
     "execution_count": 88,
     "metadata": {},
     "output_type": "execute_result"
    }
   ],
   "source": [
    "data3.head()"
   ]
  },
  {
   "cell_type": "markdown",
   "id": "0420c9ea",
   "metadata": {},
   "source": [
    "# The Prior Probabilities"
   ]
  },
  {
   "cell_type": "code",
   "execution_count": 121,
   "id": "8fcd8ad8",
   "metadata": {
    "collapsed": true
   },
   "outputs": [],
   "source": [
    "total_occurrences = data1['PubMed occurrence'].sum()\n",
    "data1['Prior_Probability'] = data1['PubMed occurrence'] / total_occurrences"
   ]
  },
  {
   "cell_type": "markdown",
   "id": "3c5b4ce5",
   "metadata": {},
   "source": [
    "# Creating the Bayesian Net"
   ]
  },
  {
   "cell_type": "code",
   "execution_count": 162,
   "id": "ef422ddc",
   "metadata": {
    "collapsed": true
   },
   "outputs": [],
   "source": [
    "\n",
    "# Looping throught the co-occurences and adding them to the bayesian net. \n",
    "\n",
    "structure = []\n",
    "symptoms_list = []\n",
    "for index, row in data3.iterrows():\n",
    "    if(row['MeSH Symptom Term'] != row['MeSH Disease Term']):\n",
    "        if row['MeSH Disease Term'] not in unique_symptoms:\n",
    "            symptoms_list.append(row['MeSH Symptom Term'])\n",
    "            \n",
    "            #Adding edges from disease to symptom\n",
    "            structure.append((row['MeSH Disease Term'], row['MeSH Symptom Term']))\n",
    "        \n",
    "        \n",
    "structure.append(('Idiopathic', 'Fatigue'))\n",
    "structure.append(('Idiopathic', 'Obesity'))\n",
    "\n",
    "\n",
    "# Create the Bayesian Network\n",
    "model = BayesianNetwork(structure)"
   ]
  },
  {
   "cell_type": "markdown",
   "id": "f86c181b",
   "metadata": {},
   "source": [
    "# The Disease CPDS"
   ]
  },
  {
   "cell_type": "code",
   "execution_count": 163,
   "id": "1df95f26",
   "metadata": {
    "collapsed": true
   },
   "outputs": [],
   "source": [
    "# Create and add CPDs for diseases. ADD PRIOR PROBABILITES\n",
    "for index, row in data1.iterrows():\n",
    "    disease = row['MeSH Disease Term']\n",
    "    \n",
    "    #make sure that the disease is in the bayesian net.\n",
    "    if(disease not in model.nodes()):\n",
    "        continue\n",
    "    \n",
    "    prior_prob = row['Prior_Probability']\n",
    "    \n",
    "    cpd_disease = TabularCPD(variable=disease, variable_card=2,\n",
    "                             values=[[1 - prior_prob], [prior_prob]])\n",
    "    model.add_cpds(cpd_disease)\n",
    "    \n",
    "\n",
    "# Add an \"Idiopathic\" disease to account for unexplained symptoms\n",
    "# Assuming low prior for idiopathic disease\n",
    "cpd_idiopathic = TabularCPD(variable='Idiopathic', variable_card=2,\n",
    "                            values=[[0.95], [0.05]])\n",
    "model.add_cpds(cpd_idiopathic)\n",
    "\n",
    "\n",
    "cpdFever = TabularCPD(variable='Fever', variable_card=2,\n",
    "                            values=[[0.95], [0.05]])\n",
    "\n"
   ]
  },
  {
   "cell_type": "code",
   "execution_count": 182,
   "id": "267619f9",
   "metadata": {
    "collapsed": true
   },
   "outputs": [
    {
     "ename": "ValueError",
     "evalue": "Variable names cannot be same",
     "output_type": "error",
     "traceback": [
      "\u001b[0;31m---------------------------------------------------------------------------\u001b[0m",
      "\u001b[0;31mValueError\u001b[0m                                Traceback (most recent call last)",
      "Cell \u001b[0;32mIn[182], line 36\u001b[0m\n\u001b[1;32m     33\u001b[0m values[\u001b[38;5;241m0\u001b[39m]\u001b[38;5;241m.\u001b[39mappend(\u001b[38;5;241m1\u001b[39m \u001b[38;5;241m-\u001b[39m prior_symp_prob)\n\u001b[1;32m     34\u001b[0m values[\u001b[38;5;241m1\u001b[39m]\u001b[38;5;241m.\u001b[39mappend(prior_symp_prob)\n\u001b[0;32m---> 36\u001b[0m cpd_symptom \u001b[38;5;241m=\u001b[39m \u001b[43mTabularCPD\u001b[49m\u001b[43m(\u001b[49m\u001b[43mvariable\u001b[49m\u001b[38;5;241;43m=\u001b[39;49m\u001b[43msymptom\u001b[49m\u001b[43m,\u001b[49m\u001b[43m \u001b[49m\u001b[43mevidence\u001b[49m\u001b[38;5;241;43m=\u001b[39;49m\u001b[43m[\u001b[49m\u001b[43mdisease\u001b[49m\u001b[43m]\u001b[49m\u001b[43m,\u001b[49m\u001b[43m \u001b[49m\u001b[43mvariable_card\u001b[49m\u001b[38;5;241;43m=\u001b[39;49m\u001b[38;5;241;43m2\u001b[39;49m\u001b[43m,\u001b[49m\u001b[43m \u001b[49m\u001b[43mvalues\u001b[49m\u001b[38;5;241;43m=\u001b[39;49m\u001b[43mvalues\u001b[49m\u001b[43m,\u001b[49m\u001b[43m \u001b[49m\u001b[43mevidence_card\u001b[49m\u001b[38;5;241;43m=\u001b[39;49m\u001b[43m[\u001b[49m\u001b[38;5;241;43m2\u001b[39;49m\u001b[43m]\u001b[49m\u001b[43m)\u001b[49m\n",
      "File \u001b[0;32m/opt/miniconda3/lib/python3.10/site-packages/pgmpy/factors/discrete/CPD.py:151\u001b[0m, in \u001b[0;36mTabularCPD.__init__\u001b[0;34m(self, variable, variable_card, values, evidence, evidence_card, state_names)\u001b[0m\n\u001b[1;32m    146\u001b[0m \u001b[38;5;28;01mif\u001b[39;00m \u001b[38;5;129;01mnot\u001b[39;00m \u001b[38;5;28misinstance\u001b[39m(state_names, \u001b[38;5;28mdict\u001b[39m):\n\u001b[1;32m    147\u001b[0m     \u001b[38;5;28;01mraise\u001b[39;00m \u001b[38;5;167;01mValueError\u001b[39;00m(\n\u001b[1;32m    148\u001b[0m         \u001b[38;5;124mf\u001b[39m\u001b[38;5;124m\"\u001b[39m\u001b[38;5;124mstate_names must be of type dict. Got \u001b[39m\u001b[38;5;132;01m{\u001b[39;00m\u001b[38;5;28mtype\u001b[39m(state_names)\u001b[38;5;132;01m}\u001b[39;00m\u001b[38;5;124m\"\u001b[39m\n\u001b[1;32m    149\u001b[0m     )\n\u001b[0;32m--> 151\u001b[0m \u001b[38;5;28;43msuper\u001b[39;49m\u001b[43m(\u001b[49m\u001b[43mTabularCPD\u001b[49m\u001b[43m,\u001b[49m\u001b[43m \u001b[49m\u001b[38;5;28;43mself\u001b[39;49m\u001b[43m)\u001b[49m\u001b[38;5;241;43m.\u001b[39;49m\u001b[38;5;21;43m__init__\u001b[39;49m\u001b[43m(\u001b[49m\n\u001b[1;32m    152\u001b[0m \u001b[43m    \u001b[49m\u001b[43mvariables\u001b[49m\u001b[43m,\u001b[49m\u001b[43m \u001b[49m\u001b[43mcardinality\u001b[49m\u001b[43m,\u001b[49m\u001b[43m \u001b[49m\u001b[43mvalues\u001b[49m\u001b[38;5;241;43m.\u001b[39;49m\u001b[43mflatten\u001b[49m\u001b[43m(\u001b[49m\u001b[43m)\u001b[49m\u001b[43m,\u001b[49m\u001b[43m \u001b[49m\u001b[43mstate_names\u001b[49m\u001b[38;5;241;43m=\u001b[39;49m\u001b[43mstate_names\u001b[49m\n\u001b[1;32m    153\u001b[0m \u001b[43m\u001b[49m\u001b[43m)\u001b[49m\n",
      "File \u001b[0;32m/opt/miniconda3/lib/python3.10/site-packages/pgmpy/factors/discrete/DiscreteFactor.py:102\u001b[0m, in \u001b[0;36mDiscreteFactor.__init__\u001b[0;34m(self, variables, cardinality, values, state_names)\u001b[0m\n\u001b[1;32m     99\u001b[0m     \u001b[38;5;28;01mraise\u001b[39;00m \u001b[38;5;167;01mValueError\u001b[39;00m(\u001b[38;5;124mf\u001b[39m\u001b[38;5;124m\"\u001b[39m\u001b[38;5;124mValues array must be of size: \u001b[39m\u001b[38;5;132;01m{\u001b[39;00mnp\u001b[38;5;241m.\u001b[39mprod(cardinality)\u001b[38;5;132;01m}\u001b[39;00m\u001b[38;5;124m\"\u001b[39m)\n\u001b[1;32m    101\u001b[0m \u001b[38;5;28;01mif\u001b[39;00m \u001b[38;5;28mlen\u001b[39m(\u001b[38;5;28mset\u001b[39m(variables)) \u001b[38;5;241m!=\u001b[39m \u001b[38;5;28mlen\u001b[39m(variables):\n\u001b[0;32m--> 102\u001b[0m     \u001b[38;5;28;01mraise\u001b[39;00m \u001b[38;5;167;01mValueError\u001b[39;00m(\u001b[38;5;124m\"\u001b[39m\u001b[38;5;124mVariable names cannot be same\u001b[39m\u001b[38;5;124m\"\u001b[39m)\n\u001b[1;32m    104\u001b[0m \u001b[38;5;28;01mif\u001b[39;00m \u001b[38;5;129;01mnot\u001b[39;00m \u001b[38;5;28misinstance\u001b[39m(state_names, \u001b[38;5;28mdict\u001b[39m):\n\u001b[1;32m    105\u001b[0m     \u001b[38;5;28;01mraise\u001b[39;00m \u001b[38;5;167;01mValueError\u001b[39;00m(\n\u001b[1;32m    106\u001b[0m         \u001b[38;5;124mf\u001b[39m\u001b[38;5;124m\"\u001b[39m\u001b[38;5;124mstate_names must be of type dict. Got \u001b[39m\u001b[38;5;132;01m{\u001b[39;00m\u001b[38;5;28mtype\u001b[39m(state_names)\u001b[38;5;132;01m}\u001b[39;00m\u001b[38;5;124m.\u001b[39m\u001b[38;5;124m\"\u001b[39m\n\u001b[1;32m    107\u001b[0m     )\n",
      "\u001b[0;31mValueError\u001b[0m: Variable names cannot be same"
     ]
    }
   ],
   "source": [
    "# GIVEN YOU HAVE A DISEASE GET CPD OF SYMPTOM. ADD CONDITIONAL CPTS.\n",
    "idiopathic_occurrences = {}\n",
    "\n",
    "#symptoms = data3['MeSH Symptom Term'].unique()\n",
    "unique_diseases = data3['MeSH Disease Term'].unique()\n",
    "\n",
    "cpds=[]\n",
    "\n",
    "for symptom in symptoms_list:\n",
    "\n",
    "     # This will hold the probabilities for P(Symptom=0) and P(Symptom=1)\n",
    "    dis_list = []\n",
    "    \n",
    "    for disease in unique_diseases:\n",
    "        values = [[], []]\n",
    "        co_occurrences = data3[(data3['MeSH Disease Term'] == disease) & (data3['MeSH Symptom Term'] == symptom)]['PubMed occurrence'].sum()\n",
    "        total_disease_occurrences = data3[data3['MeSH Disease Term'] == disease]['PubMed occurrence'].sum()\n",
    "        #print(total_disease_occurrences)\n",
    "        \n",
    "        # Calculate P(Symptom | Disease)\n",
    "        if total_disease_occurrences > 0:\n",
    "            prob_symptom_given_disease = co_occurrences / total_disease_occurrences\n",
    "        else:\n",
    "            prob_symptom_given_disease = 0.0\n",
    "        \n",
    "        values[0].append(1 - prob_symptom_given_disease)\n",
    "        values[1].append(prob_symptom_given_disease)\n",
    "        \n",
    "        #Prior of not having symptom\n",
    "        prior_symp_prob = data2.loc[data2['MeSH Symptom Term'] == symptom, 'PubMed occurrence'].values[0] / total_occurrences\n",
    "        \n",
    "        \n",
    "        values[0].append(1 - prior_symp_prob)\n",
    "        values[1].append(prior_symp_prob)\n",
    "        \n",
    "        cpd_symptom = TabularCPD(variable=symptom, evidence=[disease], variable_card=2, values=values, evidence_card=[2])\n",
    "    "
   ]
  },
  {
   "cell_type": "code",
   "execution_count": 159,
   "id": "6c6095ef",
   "metadata": {
    "collapsed": true
   },
   "outputs": [
    {
     "ename": "ValueError",
     "evalue": "No CPD associated with Fever",
     "output_type": "error",
     "traceback": [
      "\u001b[0;31m---------------------------------------------------------------------------\u001b[0m",
      "\u001b[0;31mValueError\u001b[0m                                Traceback (most recent call last)",
      "Cell \u001b[0;32mIn[159], line 1\u001b[0m\n\u001b[0;32m----> 1\u001b[0m \u001b[43mmodel\u001b[49m\u001b[38;5;241;43m.\u001b[39;49m\u001b[43mcheck_model\u001b[49m\u001b[43m(\u001b[49m\u001b[43m)\u001b[49m\n",
      "File \u001b[0;32m/opt/miniconda3/lib/python3.10/site-packages/pgmpy/models/BayesianNetwork.py:409\u001b[0m, in \u001b[0;36mBayesianNetwork.check_model\u001b[0;34m(self)\u001b[0m\n\u001b[1;32m    407\u001b[0m \u001b[38;5;66;03m# Check if a CPD is associated with every node.\u001b[39;00m\n\u001b[1;32m    408\u001b[0m \u001b[38;5;28;01mif\u001b[39;00m cpd \u001b[38;5;129;01mis\u001b[39;00m \u001b[38;5;28;01mNone\u001b[39;00m:\n\u001b[0;32m--> 409\u001b[0m     \u001b[38;5;28;01mraise\u001b[39;00m \u001b[38;5;167;01mValueError\u001b[39;00m(\u001b[38;5;124mf\u001b[39m\u001b[38;5;124m\"\u001b[39m\u001b[38;5;124mNo CPD associated with \u001b[39m\u001b[38;5;132;01m{\u001b[39;00mnode\u001b[38;5;132;01m}\u001b[39;00m\u001b[38;5;124m\"\u001b[39m)\n\u001b[1;32m    411\u001b[0m \u001b[38;5;66;03m# Check if the CPD is an instance of either TabularCPD or ContinuousFactor.\u001b[39;00m\n\u001b[1;32m    412\u001b[0m \u001b[38;5;28;01melif\u001b[39;00m \u001b[38;5;28misinstance\u001b[39m(cpd, (TabularCPD, ContinuousFactor)):\n",
      "\u001b[0;31mValueError\u001b[0m: No CPD associated with Fever"
     ]
    }
   ],
   "source": [
    "model.check_model()"
   ]
  },
  {
   "cell_type": "markdown",
   "id": "a3ff92d6",
   "metadata": {},
   "source": [
    "# Inference and the user interface"
   ]
  },
  {
   "cell_type": "code",
   "execution_count": null,
   "id": "7d0cd0af",
   "metadata": {
    "collapsed": true
   },
   "outputs": [
    {
     "name": "stdout",
     "output_type": "stream",
     "text": [
      "Welcome to the Disease Prediction Bot!\n",
      "Please enter the symptoms you are experiencing, separated by commas.\n"
     ]
    }
   ],
   "source": [
    "def main_interface():\n",
    "    \n",
    "    maximum_list = {}\n",
    "    \n",
    "    \n",
    "    print(\"Welcome to the Disease Prediction Bot!\")\n",
    "    print(\"Please enter the symptoms you are experiencing, separated by commas.\")\n",
    "    user_input = input(\"Symptoms: \")\n",
    "    \n",
    "    \n",
    "    observed_symptoms = [symptom.strip().lower() for symptom in user_input.split(\",\")]\n",
    "    observed_evidence = {}\n",
    "\n",
    "    for symp in observed_symptoms:\n",
    "        observed_evidence[symp] = 1\n",
    "    \n",
    "    #Make dictionary with observed \n",
    "    inference = VariableElimination(model)\n",
    "\n",
    "    for disease in unique_diseases:\n",
    "        \n",
    "        prob_dis = inference.query(variables=[disease], evidence=observed_evidence)\n",
    "        maximum_list[disease] = prob_dis\n",
    "\n",
    "    sorted_dict = dict(sorted(my_dict.items(), key=lambda item: item[1], reverse=True))\n",
    "\n",
    "    top_5 = list(sorted_dict.items())[:5]\n",
    "    \n",
    "    most_likely_disease, likelihood = get_most_likely_disease(observed_symptoms, diseases, merged_data)\n",
    "    print(f\"The 5 most likely diseases based on your symptoms are: {top_5}\")\n",
    "\n",
    "\n",
    "main_interface()\n"
   ]
  },
  {
   "cell_type": "code",
   "execution_count": null,
   "id": "d3814dce",
   "metadata": {
    "collapsed": true
   },
   "outputs": [],
   "source": []
  }
 ],
 "metadata": {
  "kernelspec": {
   "display_name": "base",
   "language": "python",
   "name": "base"
  },
  "language_info": {
   "codemirror_mode": {
    "name": "ipython",
    "version": 3
   },
   "file_extension": ".py",
   "mimetype": "text/x-python",
   "name": "python",
   "nbconvert_exporter": "python",
   "pygments_lexer": "ipython3",
   "version": "3.10.13"
  }
 },
 "nbformat": 4,
 "nbformat_minor": 5
}
